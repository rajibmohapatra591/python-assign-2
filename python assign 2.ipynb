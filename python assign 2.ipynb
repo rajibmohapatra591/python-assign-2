{
 "cells": [
  {
   "cell_type": "code",
   "execution_count": 1,
   "id": "e21da9d4-53b7-4786-89de-4c0df123020e",
   "metadata": {},
   "outputs": [
    {
     "name": "stdin",
     "output_type": "stream",
     "text": [
      "enter your marks 91\n"
     ]
    },
    {
     "name": "stdout",
     "output_type": "stream",
     "text": [
      "you will be the part of A grade batch\n"
     ]
    }
   ],
   "source": [
    "marks = float(input(\"enter your marks\"))\n",
    "if marks >90:\n",
    "    print(\"you will be the part of A grade batch\")\n",
    "elif marks >80 and marks <= 90:\n",
    "    print(\"you will be the part of B grade batch\")\n",
    "elif marks >60 and marks <=80:\n",
    "    print(\"you will be the part of C grade batch\")\n",
    "else:\n",
    "    print(\"you will be the part of D grade batch\")"
   ]
  },
  {
   "cell_type": "code",
   "execution_count": 2,
   "id": "dc73197c-5013-4417-8451-57e9be109d77",
   "metadata": {},
   "outputs": [
    {
     "name": "stdin",
     "output_type": "stream",
     "text": [
      "Enter the cost price of the vehicle:  130000\n"
     ]
    },
    {
     "name": "stdout",
     "output_type": "stream",
     "text": [
      "The road tax for the vehicle is:  19500.0\n"
     ]
    }
   ],
   "source": [
    "cost_price = float(input(\"Enter the cost price of the vehicle: \"))\n",
    "\n",
    "if cost_price > 100000:\n",
    "    road_tax = 0.15 * cost_price\n",
    "elif cost_price > 50000 and cost_price <= 100000:\n",
    "    road_tax = 0.1 * cost_price\n",
    "else:\n",
    "    road_tax = 0.05 * cost_price\n",
    "\n",
    "print(\"The road tax for the vehicle is: \", road_tax)\n"
   ]
  },
  {
   "cell_type": "code",
   "execution_count": 3,
   "id": "43dcb45b-873b-457a-abf8-8a432bcbe99e",
   "metadata": {},
   "outputs": [
    {
     "name": "stdin",
     "output_type": "stream",
     "text": [
      "Enter a city(Delhi,Agra,Jaipur) Jaipur\n"
     ]
    },
    {
     "name": "stdout",
     "output_type": "stream",
     "text": [
      "Monument : Jai Mahal\n"
     ]
    }
   ],
   "source": [
    "City = input(\"Enter a city(Delhi,Agra,Jaipur)\")\n",
    "if City == \"Delhi\" :\n",
    "    print(\"Monument : Red Fort\")\n",
    "elif City == \"Agra\" :\n",
    "    print(\"Monument : Taj Mahal\")\n",
    "elif City == \"Jaipur\" :\n",
    "    print(\"Monument : Jai Mahal\")\n",
    "else :\n",
    "    print(\"sorry we don't have infomation on Monuments of this city .\")"
   ]
  },
  {
   "cell_type": "code",
   "execution_count": 4,
   "id": "36dae22a-e8f0-40bd-879a-99eec6838299",
   "metadata": {},
   "outputs": [
    {
     "data": {
      "text/plain": [
       "[0, 3, 6, 9]"
      ]
     },
     "execution_count": 4,
     "metadata": {},
     "output_type": "execute_result"
    }
   ],
   "source": [
    "list(filter(lambda x:x%3==0, range(0,10)))"
   ]
  },
  {
   "cell_type": "code",
   "execution_count": null,
   "id": "4ef9e020-4776-4830-8878-1a09e10cc955",
   "metadata": {},
   "outputs": [],
   "source": [
    "while condition :\n",
    "      # Code to be use repeatdely ."
   ]
  },
  {
   "cell_type": "code",
   "execution_count": 5,
   "id": "a190fe47-9e00-4a58-8fcb-84ff69e7d1cd",
   "metadata": {},
   "outputs": [
    {
     "name": "stdin",
     "output_type": "stream",
     "text": [
      "enter your limit 10\n"
     ]
    },
    {
     "data": {
      "text/plain": [
       "55"
      ]
     },
     "execution_count": 5,
     "metadata": {},
     "output_type": "execute_result"
    }
   ],
   "source": [
    "n = int(input(\"enter your limit\"))\n",
    "starting_point = 0\n",
    "counter = 1\n",
    "\n",
    "while counter <=n :\n",
    "    starting_point = starting_point + counter\n",
    "    counter = counter + 1\n",
    "starting_point"
   ]
  },
  {
   "cell_type": "code",
   "execution_count": null,
   "id": "a64d3865-7553-4deb-a08a-8cb0161a3c48",
   "metadata": {},
   "outputs": [],
   "source": [
    "i = 10\n",
    "while >=1 :\n",
    "    print(i)\n",
    "    i-=1\n",
    "    \n",
    "    i = 10\n",
    "while i >= 1:\n",
    "    print(i)\n",
    "    i -= 1\n"
   ]
  }
 ],
 "metadata": {
  "kernelspec": {
   "display_name": "Python 3 (ipykernel)",
   "language": "python",
   "name": "python3"
  },
  "language_info": {
   "codemirror_mode": {
    "name": "ipython",
    "version": 3
   },
   "file_extension": ".py",
   "mimetype": "text/x-python",
   "name": "python",
   "nbconvert_exporter": "python",
   "pygments_lexer": "ipython3",
   "version": "3.10.8"
  }
 },
 "nbformat": 4,
 "nbformat_minor": 5
}
